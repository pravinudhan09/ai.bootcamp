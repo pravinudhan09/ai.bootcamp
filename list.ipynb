{
 "cells": [
  {
   "cell_type": "code",
   "execution_count": 1,
   "id": "3f0fe334-0e0d-4016-b5d5-20480d512052",
   "metadata": {},
   "outputs": [
    {
     "name": "stdout",
     "output_type": "stream",
     "text": [
      "Random Numbers: [4, 60, 96, 53, 86, 65, 40, 18, 51, 26, 77, 79, 26, 15, 24, 87, 52, 58, 76, 2]\n",
      "Even Numbers: [4, 60, 96, 86, 40, 18, 26, 26, 24, 52, 58, 76, 2]\n"
     ]
    }
   ],
   "source": [
    "import random\n",
    "\n",
    "# Generate a list of 20 random numbers between 1 and 100\n",
    "random_numbers = [random.randint(1, 100) for _ in range(20)]\n",
    "\n",
    "# Filter and print even numbers\n",
    "even_numbers = [num for num in random_numbers if num % 2 == 0]\n",
    "\n",
    "print(\"Random Numbers:\", random_numbers)\n",
    "print(\"Even Numbers:\", even_numbers)\n"
   ]
  },
  {
   "cell_type": "code",
   "execution_count": null,
   "id": "b686fc72-ef3d-4068-82be-490bbe851cc7",
   "metadata": {},
   "outputs": [],
   "source": []
  }
 ],
 "metadata": {
  "kernelspec": {
   "display_name": "Python 3 (ipykernel)",
   "language": "python",
   "name": "python3"
  },
  "language_info": {
   "codemirror_mode": {
    "name": "ipython",
    "version": 3
   },
   "file_extension": ".py",
   "mimetype": "text/x-python",
   "name": "python",
   "nbconvert_exporter": "python",
   "pygments_lexer": "ipython3",
   "version": "3.13.1"
  }
 },
 "nbformat": 4,
 "nbformat_minor": 5
}
