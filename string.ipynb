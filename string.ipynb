{
 "cells": [
  {
   "cell_type": "code",
   "execution_count": 2,
   "id": "2d486815-882a-4a72-82f9-2d64fa41c2b4",
   "metadata": {},
   "outputs": [
    {
     "name": "stdout",
     "output_type": "stream",
     "text": [
      "Original String: Hello world this is Python\n",
      "Reversed String: nohtyP si siht dlrow olleH\n",
      "Reversed Words: Python is this world Hello\n"
     ]
    }
   ],
   "source": [
    "# Define a string\n",
    "text = \"Hello world this is Python\"\n",
    "\n",
    "# Reverse the entire string\n",
    "reversed_string = text[::-1]\n",
    "\n",
    "# Reverse the order of words\n",
    "reversed_words = ' '.join(text.split()[::-1])\n",
    "\n",
    "print(\"Original String:\", text)\n",
    "print(\"Reversed String:\", reversed_string)\n",
    "print(\"Reversed Words:\", reversed_words)\n"
   ]
  },
  {
   "cell_type": "code",
   "execution_count": null,
   "id": "70364ea9-995e-4226-8267-fc64f7e233b0",
   "metadata": {},
   "outputs": [],
   "source": []
  }
 ],
 "metadata": {
  "kernelspec": {
   "display_name": "Python 3 (ipykernel)",
   "language": "python",
   "name": "python3"
  },
  "language_info": {
   "codemirror_mode": {
    "name": "ipython",
    "version": 3
   },
   "file_extension": ".py",
   "mimetype": "text/x-python",
   "name": "python",
   "nbconvert_exporter": "python",
   "pygments_lexer": "ipython3",
   "version": "3.13.1"
  }
 },
 "nbformat": 4,
 "nbformat_minor": 5
}
