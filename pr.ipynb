{
 "cells": [
  {
   "cell_type": "code",
   "execution_count": 1,
   "id": "b1018079-2d0f-44ff-bfc2-2ca1a02e8c94",
   "metadata": {},
   "outputs": [
    {
     "name": "stdout",
     "output_type": "stream",
     "text": [
      "Random Numbers: [67, 47, 51, 90, 29, 5, 31, 99, 15, 99]\n",
      "Even Numbers: [90]\n"
     ]
    }
   ],
   "source": [
    "import random\n",
    "\n",
    "\n",
    "random_numbers = [random.randint(1, 100) for _ in range(10)]\n",
    "\n",
    "\n",
    "even_numbers = [num for num in random_numbers if num % 2 == 0]\n",
    "\n",
    "\n",
    "print(\"Random Numbers:\", random_numbers)\n",
    "print(\"Even Numbers:\", even_numbers)"
   ]
  },
  {
   "cell_type": "code",
   "execution_count": 2,
   "id": "d9cce819-b35c-4b8d-b311-4c294837d052",
   "metadata": {},
   "outputs": [
    {
     "name": "stdout",
     "output_type": "stream",
     "text": [
      "Original String: Hello World, Python is amazing!\n",
      "Reversed String: !gnizama si nohtyP ,dlroW olleH\n",
      "Words Reversed: amazing! is Python World, Hello\n"
     ]
    }
   ],
   "source": [
    "text = \"Hello World, Python is amazing!\"\n",
    "\n",
    "\n",
    "reversed_string = text[::-1]\n",
    "\n",
    "\n",
    "reversed_words = ' '.join(text.split()[::-1])\n",
    "\n",
    "\n",
    "print(\"Original String:\", text)\n",
    "print(\"Reversed String:\", reversed_string)\n",
    "print(\"Words Reversed:\", reversed_words)"
   ]
  },
  {
   "cell_type": "code",
   "execution_count": null,
   "id": "7338a119-7354-411d-8944-d2e01e872e8b",
   "metadata": {},
   "outputs": [],
   "source": []
  }
 ],
 "metadata": {
  "kernelspec": {
   "display_name": "Python 3 (ipykernel)",
   "language": "python",
   "name": "python3"
  },
  "language_info": {
   "codemirror_mode": {
    "name": "ipython",
    "version": 3
   },
   "file_extension": ".py",
   "mimetype": "text/x-python",
   "name": "python",
   "nbconvert_exporter": "python",
   "pygments_lexer": "ipython3",
   "version": "3.13.1"
  }
 },
 "nbformat": 4,
 "nbformat_minor": 5
}
